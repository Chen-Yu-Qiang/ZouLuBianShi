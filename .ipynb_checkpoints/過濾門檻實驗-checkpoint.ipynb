{
 "cells": [
  {
   "cell_type": "code",
   "execution_count": 55,
   "metadata": {},
   "outputs": [],
   "source": [
    "import sys \n",
    "sys.path.append(\".\\\\\")\n",
    "import com\n"
   ]
  },
  {
   "cell_type": "code",
   "execution_count": 65,
   "metadata": {},
   "outputs": [],
   "source": [
    "adata=com.readdata([495,467,482,512],4,\"角度資料\\\\0730(0.25)(1+1點)(38點)\\\\\")"
   ]
  },
  {
   "cell_type": "code",
   "execution_count": 66,
   "metadata": {},
   "outputs": [],
   "source": [
    "adata=com.GLdata(adata,50)"
   ]
  },
  {
   "cell_type": "code",
   "execution_count": 67,
   "metadata": {},
   "outputs": [],
   "source": [
    "adata=com.randdata(adata)"
   ]
  },
  {
   "cell_type": "code",
   "execution_count": 68,
   "metadata": {},
   "outputs": [
    {
     "name": "stdout",
     "output_type": "stream",
     "text": [
      "426\n",
      "384\n",
      "377\n",
      "412\n"
     ]
    }
   ],
   "source": [
    "print(len(adata[0]))\n",
    "print(len(adata[1]))\n",
    "print(len(adata[2]))\n",
    "print(len(adata[3]))"
   ]
  },
  {
   "cell_type": "code",
   "execution_count": 69,
   "metadata": {},
   "outputs": [
    {
     "name": "stdout",
     "output_type": "stream",
     "text": [
      "f1平均為: 0.8709469077045593\n"
     ]
    },
    {
     "data": {
      "text/plain": [
       "[0.8474576271186439,\n",
       " 0.8627450980392156,\n",
       " 0.8679245283018868,\n",
       " 0.9056603773584907]"
      ]
     },
     "execution_count": 69,
     "metadata": {},
     "output_type": "execute_result"
    }
   ],
   "source": [
    "bdata,cdata=com.cutdata(adata,0,350,350,377)\n",
    "MyKNN=com.KNN(bdata)\n",
    "res=MyKNN.bigtest(cdata,4)\n",
    "com.printres(res,0,0,0,0)[\"f1TH\"]"
   ]
  },
  {
   "cell_type": "code",
   "execution_count": 77,
   "metadata": {},
   "outputs": [
    {
     "name": "stdout",
     "output_type": "stream",
     "text": [
      "j= 25\n",
      "f1平均為: 0.7619564263427241\n",
      "f1平均為: 0.7527014652014652\n",
      "f1平均為: 0.775385993934381\n",
      "f1平均為: 0.629589216944801\n",
      "f1平均為: 0.665296052631579\n",
      "f1平均為: 0.8106817235155273\n",
      "f1平均為: 0.6572671461784364\n",
      "f1平均為: 0.6904771698889346\n",
      "f1平均為: 0.625\n",
      "f1平均為: 0.8076659251019651\n",
      "j= 30\n",
      "f1平均為: 0.7874840890924719\n",
      "f1平均為: 0.8188819814804067\n",
      "f1平均為: 0.8069466840520223\n",
      "f1平均為: 0.8179308620011561\n",
      "f1平均為: 0.8314969645173929\n",
      "f1平均為: 0.8154182782540711\n",
      "f1平均為: 0.802358209310081\n",
      "f1平均為: 0.8451015190254174\n",
      "f1平均為: 0.8473908161999673\n",
      "f1平均為: 0.8321242168578233\n",
      "j= 35\n",
      "f1平均為: 0.8201448452285095\n",
      "f1平均為: 0.803291862828443\n",
      "f1平均為: 0.8040398463133898\n",
      "f1平均為: 0.826298557382334\n",
      "f1平均為: 0.8267978216529973\n",
      "f1平均為: 0.7968371592430328\n",
      "f1平均為: 0.812837700333398\n",
      "f1平均為: 0.8290367812525812\n",
      "f1平均為: 0.8060829493087558\n",
      "f1平均為: 0.8303209676045826\n",
      "j= 40\n",
      "f1平均為: 0.8387493505509138\n",
      "f1平均為: 0.8075432861862638\n",
      "f1平均為: 0.8139165250713185\n",
      "f1平均為: 0.8189764104702355\n",
      "f1平均為: 0.8139772384803778\n",
      "f1平均為: 0.8281653187111588\n",
      "f1平均為: 0.8180564960331498\n",
      "f1平均為: 0.8202469237388957\n",
      "f1平均為: 0.8069275870716751\n",
      "f1平均為: 0.8369041286013953\n",
      "j= 45\n",
      "f1平均為: 0.8117744315116843\n",
      "f1平均為: 0.8024153598036816\n",
      "f1平均為: 0.7975223418150892\n",
      "f1平均為: 0.7933091380766584\n",
      "f1平均為: 0.8116639373961928\n",
      "f1平均為: 0.82973938774322\n",
      "f1平均為: 0.8141335972909249\n",
      "f1平均為: 0.8104948112215339\n",
      "f1平均為: 0.7841497120775278\n",
      "f1平均為: 0.8401831231707483\n",
      "j= 50\n",
      "f1平均為: 0.8148506860371267\n",
      "f1平均為: 0.8051509671073054\n",
      "f1平均為: 0.8278353125896685\n",
      "f1平均為: 0.7875137722970128\n",
      "f1平均為: 0.7996992180990163\n",
      "f1平均為: 0.7966887681200405\n",
      "f1平均為: 0.821053993179041\n",
      "f1平均為: 0.794585249719038\n",
      "f1平均為: 0.8016746537343129\n",
      "f1平均為: 0.7991331938553613\n",
      "j= 55\n",
      "f1平均為: 0.7829222245290914\n",
      "f1平均為: 0.807455300301939\n",
      "f1平均為: 0.7762267212047866\n",
      "f1平均為: 0.7992495578812608\n",
      "f1平均為: 0.7834610092503662\n",
      "f1平均為: 0.7884070473321465\n",
      "f1平均為: 0.804560517687188\n",
      "f1平均為: 0.8159758132352624\n",
      "f1平均為: 0.7996650757878188\n",
      "f1平均為: 0.793043663947909\n",
      "j= 60\n",
      "f1平均為: 0.8007509883234176\n",
      "f1平均為: 0.7677109744352348\n",
      "f1平均為: 0.7932645011954254\n",
      "f1平均為: 0.7984639351896077\n",
      "f1平均為: 0.7742958919540064\n",
      "f1平均為: 0.7945754048261895\n",
      "f1平均為: 0.7857614486559883\n",
      "f1平均為: 0.7863984444056564\n",
      "f1平均為: 0.7893041750498665\n",
      "f1平均為: 0.7954334175901827\n",
      "j= 65\n",
      "f1平均為: 0.7934739508131379\n",
      "f1平均為: 0.7834370312985522\n",
      "f1平均為: 0.7774379184676667\n",
      "f1平均為: 0.7980084381486108\n",
      "f1平均為: 0.779022142718192\n",
      "f1平均為: 0.7813001269496023\n",
      "f1平均為: 0.7835342793845163\n",
      "f1平均為: 0.7854215780931055\n",
      "f1平均為: 0.7834828165453913\n",
      "f1平均為: 0.8096222885321365\n",
      "j= 70\n",
      "f1平均為: 0.7912477797757786\n",
      "f1平均為: 0.8004821212976148\n",
      "f1平均為: 0.8022336569474103\n",
      "f1平均為: 0.7752483797849073\n",
      "f1平均為: 0.8188457886717054\n",
      "f1平均為: 0.7777615498475521\n",
      "f1平均為: 0.7709725296731766\n",
      "f1平均為: 0.7818046505367454\n",
      "f1平均為: 0.7785085853453757\n",
      "f1平均為: 0.7838787762439943\n",
      "j= 75\n",
      "f1平均為: 0.7771207005017678\n",
      "f1平均為: 0.799215886747417\n",
      "f1平均為: 0.7801536269492995\n",
      "f1平均為: 0.7769703485989409\n",
      "f1平均為: 0.7671096970836622\n",
      "f1平均為: 0.7577535124800987\n",
      "f1平均為: 0.7518622208898131\n",
      "f1平均為: 0.7747610252434717\n",
      "f1平均為: 0.7850460818905574\n",
      "f1平均為: 0.7623892240238449\n",
      "j= 80\n",
      "f1平均為: 0.7931112295501999\n",
      "f1平均為: 0.7963194518864622\n",
      "f1平均為: 0.7837949742317603\n",
      "f1平均為: 0.7854799292867327\n",
      "f1平均為: 0.794456302582969\n",
      "f1平均為: 0.7764053414701477\n",
      "f1平均為: 0.7735895171984519\n",
      "f1平均為: 0.7845537962770088\n",
      "f1平均為: 0.7774829624442816\n",
      "f1平均為: 0.798662443980138\n",
      "j= 85\n",
      "f1平均為: 0.7818028929862608\n",
      "f1平均為: 0.7868930334789055\n",
      "f1平均為: 0.7630917064793807\n",
      "f1平均為: 0.7836395011977638\n",
      "f1平均為: 0.7703943537911028\n",
      "f1平均為: 0.7630924771363607\n",
      "f1平均為: 0.8082310244647304\n",
      "f1平均為: 0.7589013210461902\n",
      "f1平均為: 0.7711523841957278\n",
      "f1平均為: 0.7970335429291097\n",
      "j= 90\n",
      "f1平均為: 0.7928351159635402\n",
      "f1平均為: 0.7912023418654064\n",
      "f1平均為: 0.7867890805043696\n",
      "f1平均為: 0.7696218848765141\n",
      "f1平均為: 0.7747185497669088\n",
      "f1平均為: 0.7754598594732945\n",
      "f1平均為: 0.7686868630506286\n",
      "f1平均為: 0.7856566771877778\n",
      "f1平均為: 0.7828744201660354\n",
      "f1平均為: 0.7752631365105599\n",
      "j= 95\n",
      "f1平均為: 0.7843284407301496\n",
      "f1平均為: 0.7718557612746995\n",
      "f1平均為: 0.7977002062385157\n",
      "f1平均為: 0.8021288962433735\n",
      "f1平均為: 0.7554069643349887\n",
      "f1平均為: 0.7935099011585982\n",
      "f1平均為: 0.7917956656346749\n",
      "f1平均為: 0.7801527413624048\n",
      "f1平均為: 0.7895929970023693\n",
      "f1平均為: 0.7930256902865669\n",
      "j= 100\n",
      "f1平均為: 0.7804034430978525\n",
      "f1平均為: 0.7743749861791972\n",
      "f1平均為: 0.7689399155842771\n",
      "f1平均為: 0.7654223677566575\n",
      "f1平均為: 0.8090154843249937\n",
      "f1平均為: 0.7763208856864863\n",
      "f1平均為: 0.7618400691978635\n",
      "f1平均為: 0.7663529685432944\n",
      "f1平均為: 0.7702175698657457\n",
      "f1平均為: 0.7771316914166383\n",
      "j= 105\n",
      "f1平均為: 0.7911745450088569\n",
      "f1平均為: 0.7864743075279566\n",
      "f1平均為: 0.7853206957767621\n",
      "f1平均為: 0.7812493645039322\n",
      "f1平均為: 0.7639326091295827\n",
      "f1平均為: 0.7573179072098496\n",
      "f1平均為: 0.7878974759988312\n",
      "f1平均為: 0.7860135083704148\n",
      "f1平均為: 0.8141630528623076\n",
      "f1平均為: 0.7910494253379816\n"
     ]
    }
   ],
   "source": [
    "#不同過濾門檻對f1之影響\n",
    "x=[]\n",
    "y=[]\n",
    "\n",
    "for j in range(25,106,5):\n",
    "    print (\"j=\",j)\n",
    "    x+=[j]\n",
    "    adata=com.readdata([495,467,482,512],4,\"角度資料\\\\0730(0.25)(1+1點)(38點)\\\\\")\n",
    "    adata=com.GLdata(adata,j)\n",
    "    toto=0\n",
    "    for i in range(10):\n",
    "        adata=com.randdata(adata)\n",
    "        bdata,cdata=com.cutdata(adata,0,min([len(adata[0]),len(adata[1]),len(adata[2]),len(adata[3])])//2,min([len(adata[0]),len(adata[1]),len(adata[2]),len(adata[3])])//2,min([len(adata[0]),len(adata[1]),len(adata[2]),len(adata[3])]))\n",
    "        MyKNN=com.KNN(bdata)\n",
    "        res=MyKNN.bigtest(cdata,4)\n",
    "        toto+=com.printres(res,0,0,0,0)[\"f1THPJ\"]/10\n",
    "    y+=[toto]"
   ]
  },
  {
   "cell_type": "code",
   "execution_count": 79,
   "metadata": {},
   "outputs": [
    {
     "data": {
      "image/png": "[encoded data removed]",
      "text/plain": [
       "<Figure size 432x288 with 1 Axes>"
      ]
     },
     "metadata": {},
     "output_type": "display_data"
    }
   ],
   "source": [
    "import matplotlib.pyplot as plt\n",
    "plt.plot(x,y)\n",
    "plt.xlabel(\"過濾門檻\")\n",
    "plt.ylabel(\"f1平均\")\n",
    "plt.title(\"過濾門檻對f1的影響\")\n",
    "plt.grid(True)\n",
    "plt.savefig(\"過濾門檻對f1的影響\", dpi=600)\n",
    "plt.show()"
   ]
  },
  {
   "cell_type": "code",
   "execution_count": 80,
   "metadata": {},
   "outputs": [
    {
     "name": "stdout",
     "output_type": "stream",
     "text": [
      "[25, 30, 35, 40, 45, 50, 55, 60, 65, 70, 75, 80, 85, 90, 95, 100, 105] [0.7176021119739813, 0.8205133620790811, 0.8155688491148025, 0.8203463264915384, 0.8095385840107261, 0.8048185814737924, 0.7950966931157769, 0.7885959181625575, 0.7874740570950911, 0.7880983818124261, 0.7732382324408873, 0.7863855948908152, 0.7784232237705533, 0.7803107929365035, 0.7859497264266341, 0.7750019381653006, 0.7844592891726476]\n"
     ]
    }
   ],
   "source": [
    "print(x,y)"
   ]
  },
  {
   "cell_type": "code",
   "execution_count": null,
   "metadata": {},
   "outputs": [],
   "source": []
  }
 ],
 "metadata": {
  "kernelspec": {
   "display_name": "Python 3",
   "language": "python",
   "name": "python3"
  },
  "language_info": {
   "codemirror_mode": {
    "name": "ipython",
    "version": 3
   },
   "file_extension": ".py",
   "mimetype": "text/x-python",
   "name": "python",
   "nbconvert_exporter": "python",
   "pygments_lexer": "ipython3",
   "version": "3.6.5"
  }
 },
 "nbformat": 4,
 "nbformat_minor": 2
}
