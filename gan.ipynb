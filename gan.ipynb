{
 "cells": [
  {
   "cell_type": "code",
   "execution_count": 2,
   "metadata": {},
   "outputs": [],
   "source": [
    "people=4\n",
    "test_max_num=466"
   ]
  },
  {
   "cell_type": "code",
   "execution_count": 4,
   "metadata": {},
   "outputs": [],
   "source": [
    "def mytest(who,num,knn):\n",
    "    #testname=input(\"請輸入測試資料\")\n",
    "    f=open(\"D:\\\\kinect\\\\1070722-讀出骨架\\\\1070722-DuGuJiaZiXun\\\\BodyBasics-WPF\\\\資料區\\\\角度資料\\\\\" + who+\"-\"+str(num)+\".txt\",\"r\")\n",
    "    tdata=f.readlines()\n",
    "    f.close()\n",
    "    for i in range(len(tdata)):\n",
    "        tdata[i]=float(tdata[i])\n",
    "    nowmin=10000\n",
    "    whomin=0\n",
    "    ddata=[[0,99] for i in range(people*datanum)]\n",
    "    for i in range(people):\n",
    "        for j in range(datanum):\n",
    "            #if(nowmin>d(adata[i][j],tdata)):\n",
    "            #    whomin=i\n",
    "            #    nowmin=d(adata[i][j],tdata)\n",
    "            ddata[i*datanum+j][1]=d(adata[i][j],tdata)\n",
    "            ddata[i*datanum+j][0]=i\n",
    "    #print(whomin+1,nowmin)\n",
    "    ddata=sorted(ddata, key = lambda x : x[1]) \n",
    "    def knnofK(ddata,k):\n",
    "        ans=[0 for i in range(people)]\n",
    "        totd=0\n",
    "        for i in range(k):\n",
    "            ans[(ddata[i][0])]+=1/ddata[i][1]\n",
    "        return ans.index(max(ans))\n",
    "    whomin=knnofK(ddata,knn)\n",
    "    return [whomin+1,0]"
   ]
  },
  {
   "cell_type": "code",
   "execution_count": 6,
   "metadata": {
    "scrolled": true
   },
   "outputs": [
    {
     "ename": "TypeError",
     "evalue": "readdata() missing 2 required positional arguments: 'datanum' and 'people'",
     "output_type": "error",
     "traceback": [
      "\u001b[1;31m---------------------------------------------------------------------------\u001b[0m",
      "\u001b[1;31mTypeError\u001b[0m                                 Traceback (most recent call last)",
      "\u001b[1;32m<ipython-input-6-8478432460df>\u001b[0m in \u001b[0;36m<module>\u001b[1;34m()\u001b[0m\n\u001b[0;32m      9\u001b[0m         \u001b[1;32mfor\u001b[0m \u001b[0myyy\u001b[0m \u001b[1;32min\u001b[0m \u001b[0mrange\u001b[0m\u001b[1;33m(\u001b[0m\u001b[1;36m10\u001b[0m\u001b[1;33m)\u001b[0m\u001b[1;33m:\u001b[0m\u001b[1;33m\u001b[0m\u001b[0m\n\u001b[0;32m     10\u001b[0m             \u001b[0mos\u001b[0m\u001b[1;33m.\u001b[0m\u001b[0msystem\u001b[0m\u001b[1;33m(\u001b[0m\u001b[1;34m\"python PythonRename.py\"\u001b[0m\u001b[1;33m)\u001b[0m\u001b[1;33m\u001b[0m\u001b[0m\n\u001b[1;32m---> 11\u001b[1;33m             \u001b[0madata\u001b[0m\u001b[1;33m=\u001b[0m\u001b[0mreaddata\u001b[0m\u001b[1;33m(\u001b[0m\u001b[1;33m)\u001b[0m\u001b[1;33m\u001b[0m\u001b[0m\n\u001b[0m\u001b[0;32m     12\u001b[0m \u001b[1;33m\u001b[0m\u001b[0m\n\u001b[0;32m     13\u001b[0m             \u001b[1;32mfor\u001b[0m \u001b[0mwho\u001b[0m \u001b[1;32min\u001b[0m \u001b[0mrange\u001b[0m\u001b[1;33m(\u001b[0m\u001b[1;36m1\u001b[0m\u001b[1;33m,\u001b[0m\u001b[0mpeople\u001b[0m\u001b[1;33m+\u001b[0m\u001b[1;36m1\u001b[0m\u001b[1;33m)\u001b[0m\u001b[1;33m:\u001b[0m\u001b[1;33m\u001b[0m\u001b[0m\n",
      "\u001b[1;31mTypeError\u001b[0m: readdata() missing 2 required positional arguments: 'datanum' and 'people'"
     ]
    }
   ],
   "source": [
    "p1=[]\n",
    "p2=[]\n",
    "pp=[]\n",
    "for knn in range(1,10,2):\n",
    "    for xxx in range(60,461,50):\n",
    "        datanum=xxx\n",
    "        p2+=[xxx]\n",
    "        ave=0\n",
    "        for yyy in range(10):\n",
    "            os.system(\"python PythonRename.py\")\n",
    "            adata=readdata()\n",
    "\n",
    "            for who in range(1,people+1):\n",
    "                p=[0 for i in range(people+1)]\n",
    "                for i in range(datanum+1,test_max_num):\n",
    "                    a=mytest(str(who),i,knn)\n",
    "                    p[a[0]]=p[a[0]]+1\n",
    "                #print(who,p,p[who]/(test_max_num-datanum))\n",
    "                ave+=p[who]/(test_max_num-datanum)\n",
    "        p1+=[ave/40]\n",
    "        print(\"+++++++\")\n",
    "    pp+=[knn,p1]\n",
    "    plt.plot(p2,p1)\n",
    "    plt.show()\n",
    "pprint.pprint(pp)"
   ]
  },
  {
   "cell_type": "code",
   "execution_count": 1,
   "metadata": {},
   "outputs": [],
   "source": [
    "import math\n",
    "import os\n",
    "import matplotlib.pyplot as plt\n",
    "import pprint\n"
   ]
  },
  {
   "cell_type": "code",
   "execution_count": 2,
   "metadata": {},
   "outputs": [],
   "source": [
    "def d(a,b):\n",
    "    c = 0.0\n",
    "    for i in range(len(a)):\n",
    "        c+=math.pow(a[i] - b[i],2)\n",
    "    return math.sqrt(c)"
   ]
  },
  {
   "cell_type": "code",
   "execution_count": 3,
   "metadata": {},
   "outputs": [],
   "source": [
    "#讀資料\n",
    "def readdata(datanum,people):\n",
    "    adata=[[0 for i in range(datanum)] for j in range(people)]\n",
    "    for i in range(people):\n",
    "        for j in range(datanum):\n",
    "            f=open(\"D:\\\\kinect\\\\1070722-讀出骨架\\\\1070722-DuGuJiaZiXun\\\\BodyBasics-WPF\\\\資料區\\\\角度資料\\\\\" + str(i+1)+\"-\"+str(j+1) + \".txt\",\"r\")\n",
    "            adata[i][j]=f.readlines()\n",
    "            f.close()\n",
    "    for i in range(len(adata)):\n",
    "        for j in range(len(adata[i])):\n",
    "            for k in range(len(adata[i][j])):\n",
    "                adata[i][j][k]=float(adata[i][j][k])\n",
    "    return adata"
   ]
  },
  {
   "cell_type": "code",
   "execution_count": 4,
   "metadata": {},
   "outputs": [],
   "source": [
    "#打亂資料\n",
    "def randdata(adata):\n",
    "    import random\n",
    "    newdata=[[] for i in range(len(adata))]\n",
    "    for p in range(len(adata)):\n",
    "        n=len(adata[p])\n",
    "        tdata=[-1 for i in range(n)]\n",
    "        j=0\n",
    "        for i in range(n):\n",
    "            while 1:\n",
    "                a=random.randint(0,n-1)\n",
    "                if tdata[a]==-1:\n",
    "                    tdata[a]=j\n",
    "                    j=j+1\n",
    "                    break\n",
    "\n",
    "        for i in range(n):\n",
    "            newdata[p]+=[adata[p][tdata[i]]]\n",
    "    return newdata"
   ]
  },
  {
   "cell_type": "code",
   "execution_count": 122,
   "metadata": {},
   "outputs": [],
   "source": [
    "#列印結果\n",
    "def printres(res,table=1):\n",
    "    import pandas\n",
    "    import copy\n",
    "    pres=copy.deepcopy(res)\n",
    "    if table==1:\n",
    "        display(pandas.DataFrame(pres))\n",
    "    print(\"召回率\")\n",
    "    recall=[]\n",
    "    for i in range(len(res)):\n",
    "        t=0\n",
    "        for j in range(len(res[i])):\n",
    "            t+=res[i][j]\n",
    "        recall+=[res[i][i]/t]\n",
    "    print(recall)\n",
    "    print(\"精確度\")\n",
    "    precision=[]\n",
    "    for i in range(len(res)):\n",
    "        t=0\n",
    "        for j in range(len(res[i])):\n",
    "            t+=res[j][i]\n",
    "        precision+=[res[i][i]/t]\n",
    "    print(precision)    \n",
    "    "
   ]
  },
  {
   "cell_type": "code",
   "execution_count": 5,
   "metadata": {},
   "outputs": [],
   "source": [
    "adata=readdata(466,4)\n"
   ]
  },
  {
   "cell_type": "code",
   "execution_count": 6,
   "metadata": {},
   "outputs": [],
   "source": [
    "adata=randdata(adata)"
   ]
  },
  {
   "cell_type": "code",
   "execution_count": 79,
   "metadata": {},
   "outputs": [],
   "source": [
    "class KNN:\n",
    "    def __init__(self,data):\n",
    "        self.data=data\n",
    "    def test(self,testdata,k=1):\n",
    "        ddata=[]\n",
    "        for i in range(len(self.data)):\n",
    "            for j in range(len(self.data[i])):\n",
    "                ddata+=[[i,d(self.data[i][j],testdata)]]\n",
    "        ddata=sorted(ddata, key = lambda x : x[1]) \n",
    "        ans=[0 for i in range(len(self.data))]\n",
    "        totd=0\n",
    "        for i in range(k):\n",
    "            ans[(ddata[i][0])]+=1/ddata[i][1]\n",
    "        return ans.index(max(ans))\n",
    "    def bigtest(self,testdata,k=1):\n",
    "        res=[[0 for j in range(len(testdata))] for i in range(len(testdata))]\n",
    "        for i in range(len(testdata)):\n",
    "            for j in range(len(testdata[i])):\n",
    "                ans=self.test(testdata[i][j],k)\n",
    "                res[i][ans]+=1\n",
    "        return res\n"
   ]
  },
  {
   "cell_type": "code",
   "execution_count": 80,
   "metadata": {},
   "outputs": [],
   "source": [
    "TrainDataFrom=0  #訓練從\n",
    "TrainDataEnd=400 #訓練到(不含)\n",
    "bdata=[0 for i in range(len(adata))]\n",
    "for i in range(len(adata)):\n",
    "    bdata[i]=adata[i][TrainDataFrom:TrainDataEnd]\n",
    "TestDataFrom=400 #測試從\n",
    "TestDataEnd=467 #測試到(不含)\n",
    "cdata=[0 for i in range(len(adata))]\n",
    "for i in range(len(adata)):\n",
    "    cdata[i]=adata[i][TestDataFrom:TestDataEnd]"
   ]
  },
  {
   "cell_type": "code",
   "execution_count": 81,
   "metadata": {},
   "outputs": [],
   "source": [
    "MyKNN=KNN(bdata)"
   ]
  },
  {
   "cell_type": "code",
   "execution_count": 82,
   "metadata": {},
   "outputs": [
    {
     "name": "stdout",
     "output_type": "stream",
     "text": [
      "2\n"
     ]
    }
   ],
   "source": [
    "print(MyKNN.test(adata[2][400]))"
   ]
  },
  {
   "cell_type": "code",
   "execution_count": 83,
   "metadata": {
    "slideshow": {
     "slide_type": "-"
    }
   },
   "outputs": [],
   "source": [
    "#for i in range(400,466):\n",
    "#    print(MyKNN.test(adata[0][i],2))"
   ]
  },
  {
   "cell_type": "code",
   "execution_count": 85,
   "metadata": {},
   "outputs": [
    {
     "data": {
      "text/plain": [
       "[[52, 2, 4, 8], [3, 57, 5, 1], [2, 7, 54, 3], [7, 7, 5, 47]]"
      ]
     },
     "execution_count": 85,
     "metadata": {},
     "output_type": "execute_result"
    }
   ],
   "source": [
    "MyKNN.bigtest(cdata,1)"
   ]
  },
  {
   "cell_type": "code",
   "execution_count": 107,
   "metadata": {},
   "outputs": [],
   "source": [
    "res=MyKNN.bigtest(cdata,1)"
   ]
  },
  {
   "cell_type": "code",
   "execution_count": 119,
   "metadata": {},
   "outputs": [
    {
     "data": {
      "text/html": [
       "<div>\n",
       "<style scoped>\n",
       "    .dataframe tbody tr th:only-of-type {\n",
       "        vertical-align: middle;\n",
       "    }\n",
       "\n",
       "    .dataframe tbody tr th {\n",
       "        vertical-align: top;\n",
       "    }\n",
       "\n",
       "    .dataframe thead th {\n",
       "        text-align: right;\n",
       "    }\n",
       "</style>\n",
       "<table border=\"1\" class=\"dataframe\">\n",
       "  <thead>\n",
       "    <tr style=\"text-align: right;\">\n",
       "      <th></th>\n",
       "      <th>0</th>\n",
       "      <th>1</th>\n",
       "      <th>2</th>\n",
       "      <th>3</th>\n",
       "    </tr>\n",
       "  </thead>\n",
       "  <tbody>\n",
       "    <tr>\n",
       "      <th>0</th>\n",
       "      <td>52</td>\n",
       "      <td>2</td>\n",
       "      <td>4</td>\n",
       "      <td>8</td>\n",
       "    </tr>\n",
       "    <tr>\n",
       "      <th>1</th>\n",
       "      <td>3</td>\n",
       "      <td>57</td>\n",
       "      <td>5</td>\n",
       "      <td>1</td>\n",
       "    </tr>\n",
       "    <tr>\n",
       "      <th>2</th>\n",
       "      <td>2</td>\n",
       "      <td>7</td>\n",
       "      <td>54</td>\n",
       "      <td>3</td>\n",
       "    </tr>\n",
       "    <tr>\n",
       "      <th>3</th>\n",
       "      <td>7</td>\n",
       "      <td>7</td>\n",
       "      <td>5</td>\n",
       "      <td>47</td>\n",
       "    </tr>\n",
       "  </tbody>\n",
       "</table>\n",
       "</div>"
      ],
      "text/plain": [
       "    0   1   2   3\n",
       "0  52   2   4   8\n",
       "1   3  57   5   1\n",
       "2   2   7  54   3\n",
       "3   7   7   5  47"
      ]
     },
     "metadata": {},
     "output_type": "display_data"
    },
    {
     "name": "stdout",
     "output_type": "stream",
     "text": [
      "召回率\n",
      "[0.7878787878787878, 0.8636363636363636, 0.8181818181818182, 0.7121212121212122]\n",
      "精確度\n",
      "[0.8125, 0.7808219178082192, 0.7941176470588235, 0.7966101694915254]\n"
     ]
    }
   ],
   "source": [
    "printres(res)"
   ]
  },
  {
   "cell_type": "code",
   "execution_count": null,
   "metadata": {},
   "outputs": [],
   "source": [
    "#在不同K值\n",
    "for knn in range(1,20):\n",
    "    print(\"k==\",knn)\n",
    "    for i in range(10):\n",
    "        res=MyKNN.bigtest(cdata,knn)\n",
    "        printres(res,0)"
   ]
  },
  {
   "cell_type": "code",
   "execution_count": null,
   "metadata": {},
   "outputs": [],
   "source": []
  }
 ],
 "metadata": {
  "kernelspec": {
   "display_name": "Python 3",
   "language": "python",
   "name": "python3"
  },
  "language_info": {
   "codemirror_mode": {
    "name": "ipython",
    "version": 3
   },
   "file_extension": ".py",
   "mimetype": "text/x-python",
   "name": "python",
   "nbconvert_exporter": "python",
   "pygments_lexer": "ipython3",
   "version": "3.6.5"
  }
 },
 "nbformat": 4,
 "nbformat_minor": 2
}
