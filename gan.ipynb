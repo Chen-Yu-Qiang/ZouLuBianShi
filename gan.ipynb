{
 "cells": [
  {
   "cell_type": "code",
   "execution_count": 1,
   "metadata": {},
   "outputs": [],
   "source": [
    "import math\n",
    "import os\n",
    "import matplotlib.pyplot as plt\n",
    "import pprint\n"
   ]
  },
  {
   "cell_type": "code",
   "execution_count": 2,
   "metadata": {},
   "outputs": [],
   "source": [
    "def d(a,b):\n",
    "    c = 0.0\n",
    "    for i in range(len(a)):\n",
    "        c+=math.pow(a[i] - b[i],2)\n",
    "    return math.sqrt(c)"
   ]
  },
  {
   "cell_type": "code",
   "execution_count": 3,
   "metadata": {},
   "outputs": [],
   "source": [
    "#讀資料\n",
    "def readdata(datanum,people):\n",
    "    adata=[[0 for i in range(datanum)] for j in range(people)]\n",
    "    for i in range(people):\n",
    "        for j in range(datanum):\n",
    "            f=open(\".\\\\角度資料\\\\0729(0.25)(1+1點)角度資料\\\\\" + str(i+1)+\"-\"+str(j+1) + \".txt\",\"r\")\n",
    "            adata[i][j]=f.readlines()\n",
    "            f.close()\n",
    "    for i in range(len(adata)):\n",
    "        for j in range(len(adata[i])):\n",
    "            for k in range(len(adata[i][j])):\n",
    "                adata[i][j][k]=float(adata[i][j][k])\n",
    "    return adata"
   ]
  },
  {
   "cell_type": "code",
   "execution_count": 4,
   "metadata": {},
   "outputs": [],
   "source": [
    "#打亂資料\n",
    "def randdata(adata):\n",
    "    import random\n",
    "    newdata=[[] for i in range(len(adata))]\n",
    "    for p in range(len(adata)):\n",
    "        n=len(adata[p])\n",
    "        tdata=[-1 for i in range(n)]\n",
    "        j=0\n",
    "        for i in range(n):\n",
    "            while 1:\n",
    "                a=random.randint(0,n-1)\n",
    "                if tdata[a]==-1:\n",
    "                    tdata[a]=j\n",
    "                    j=j+1\n",
    "                    break\n",
    "\n",
    "        for i in range(n):\n",
    "            newdata[p]+=[adata[p][tdata[i]]]\n",
    "    return newdata"
   ]
  },
  {
   "cell_type": "code",
   "execution_count": 13,
   "metadata": {},
   "outputs": [],
   "source": [
    "#列印結果\n",
    "def printres(res,table=1,rec=1,pre=1,acc=1):\n",
    "    import pandas\n",
    "    import copy\n",
    "    pres=copy.deepcopy(res)\n",
    "    if table==1:\n",
    "        display(pandas.DataFrame(pres))\n",
    "    recall=[]\n",
    "    precision=[]\n",
    "    for i in range(len(res)):\n",
    "        r=0\n",
    "        p=0\n",
    "        for j in range(len(res[i])):\n",
    "            r+=res[i][j]\n",
    "            p+=res[j][i]\n",
    "        recall+=[res[i][i]/r]\n",
    "        precision+=[res[i][i]/p]\n",
    "    if rec==1:\n",
    "        print(\"召回率\")\n",
    "        print(recall)\n",
    "    if pre==1:\n",
    "        print(\"精確率\")\n",
    "        print(precision)\n",
    "    if acc==1:\n",
    "        tot=0\n",
    "        isright=0\n",
    "        for i in range(len(res)):\n",
    "            for j in range(len(res[i])):\n",
    "                tot+=res[i][j]\n",
    "                if i==j:\n",
    "                    isright+=res[i][j]\n",
    "        print(\"準確率\",isright/tot)\n",
    "    f1=[]\n",
    "    for i in range(len(recall)):\n",
    "        f1+=[2/((1/recall[i])+(1/precision[i]))]\n",
    "    print(\"f1平均為:\",float(sum(f1))/len(f1))\n",
    "    return {\"ZHL\":recall,\"JQL\":precision,\"f1TH\":f1,\"f1THPJ\":float(sum(f1))/len(f1)}"
   ]
  },
  {
   "cell_type": "code",
   "execution_count": 6,
   "metadata": {},
   "outputs": [],
   "source": [
    "adata=readdata(466,4)\n"
   ]
  },
  {
   "cell_type": "code",
   "execution_count": 7,
   "metadata": {},
   "outputs": [],
   "source": [
    "adata=randdata(adata)"
   ]
  },
  {
   "cell_type": "code",
   "execution_count": 8,
   "metadata": {},
   "outputs": [],
   "source": [
    "class KNN:\n",
    "    def __init__(self,data):\n",
    "        self.data=data\n",
    "    def test(self,testdata,k=1):\n",
    "        ddata=[]\n",
    "        for i in range(len(self.data)):\n",
    "            for j in range(len(self.data[i])):\n",
    "                ddata+=[[i,d(self.data[i][j],testdata)]]\n",
    "        ddata=sorted(ddata, key = lambda x : x[1]) \n",
    "        ans=[0 for i in range(len(self.data))]\n",
    "        totd=0\n",
    "        for i in range(k):\n",
    "            ans[(ddata[i][0])]+=1/ddata[i][1]\n",
    "        return ans.index(max(ans))\n",
    "    def bigtest(self,testdata,k=1):\n",
    "        res=[[0 for j in range(len(testdata))] for i in range(len(testdata))]\n",
    "        for i in range(len(testdata)):\n",
    "            for j in range(len(testdata[i])):\n",
    "                ans=self.test(testdata[i][j],k)\n",
    "                res[i][ans]+=1\n",
    "        return res\n"
   ]
  },
  {
   "cell_type": "code",
   "execution_count": 9,
   "metadata": {},
   "outputs": [],
   "source": [
    "def cutdata(adata):\n",
    "    TrainDataFrom=0  #訓練從\n",
    "    TrainDataEnd=400 #訓練到(不含)\n",
    "    bdata=[0 for i in range(len(adata))]\n",
    "    for i in range(len(adata)):\n",
    "        bdata[i]=adata[i][TrainDataFrom:TrainDataEnd]\n",
    "    TestDataFrom=400 #測試從\n",
    "    TestDataEnd=467 #測試到(不含)\n",
    "    cdata=[0 for i in range(len(adata))]\n",
    "    for i in range(len(adata)):\n",
    "        cdata[i]=adata[i][TestDataFrom:TestDataEnd]\n",
    "    return bdata,cdata"
   ]
  },
  {
   "cell_type": "code",
   "execution_count": 17,
   "metadata": {},
   "outputs": [
    {
     "name": "stdout",
     "output_type": "stream",
     "text": [
      "k== 1\n",
      "f1平均為: 0.7866051594483934\n",
      "f1平均為: 0.8018652773349095\n",
      "f1平均為: 0.7986783197309513\n",
      "f1平均為: 0.8031692819365377\n",
      "f1平均為: 0.788264677307131\n",
      "f1平均為: 0.8367432336182337\n",
      "f1平均為: 0.8137497073207294\n",
      "f1平均為: 0.8137030713974653\n",
      "f1平均為: 0.818054669969324\n",
      "f1平均為: 0.7713276115442709\n",
      "k== 2\n",
      "f1平均為: 0.8099151690060781\n",
      "f1平均為: 0.8171156080909321\n",
      "f1平均為: 0.7830070412059306\n",
      "f1平均為: 0.832137307137307\n",
      "f1平均為: 0.79892253136934\n",
      "f1平均為: 0.7854453083114366\n",
      "f1平均為: 0.8179076338222626\n",
      "f1平均為: 0.8059131268586104\n",
      "f1平均為: 0.7528684678795803\n",
      "f1平均為: 0.802972551950743\n",
      "k== 3\n",
      "f1平均為: 0.7873513706377926\n",
      "f1平均為: 0.8447621678869088\n",
      "f1平均為: 0.8101186299081036\n",
      "f1平均為: 0.8299003421159444\n",
      "f1平均為: 0.8259704402897737\n",
      "f1平均為: 0.7765182059276781\n",
      "f1平均為: 0.7947301598049837\n",
      "f1平均為: 0.7877494057000441\n",
      "f1平均為: 0.7955892508701919\n",
      "f1平均為: 0.8292453184036847\n",
      "k== 4\n",
      "f1平均為: 0.8029858514505888\n",
      "f1平均為: 0.8174742427546569\n",
      "f1平均為: 0.8589255940781346\n",
      "f1平均為: 0.8062118014642579\n",
      "f1平均為: 0.8025774572649573\n",
      "f1平均為: 0.8408777754178185\n",
      "f1平均為: 0.8105593617195714\n",
      "f1平均為: 0.8022607022607022\n",
      "f1平均為: 0.8178123545435312\n",
      "f1平均為: 0.8282352381260436\n",
      "k== 5\n",
      "f1平均為: 0.8142997186547221\n",
      "f1平均為: 0.8063294029203121\n",
      "f1平均為: 0.8256373497936376\n",
      "f1平均為: 0.772607479660349\n",
      "f1平均為: 0.790716373897748\n",
      "f1平均為: 0.8033791336721287\n",
      "f1平均為: 0.8139678951869689\n",
      "f1平均為: 0.8174572993749194\n",
      "f1平均為: 0.8062589070716006\n",
      "f1平均為: 0.8558566972130427\n",
      "k== 6\n",
      "f1平均為: 0.7526900993100782\n",
      "f1平均為: 0.8186765134179321\n",
      "f1平均為: 0.8198361364950018\n",
      "f1平均為: 0.7572728989960156\n",
      "f1平均為: 0.8144204972895231\n",
      "f1平均為: 0.7861709005965044\n",
      "f1平均為: 0.8216931216931217\n",
      "f1平均為: 0.8066209851877968\n",
      "f1平均為: 0.7601496880088993\n",
      "f1平均為: 0.8335168203011216\n",
      "k== 7\n",
      "f1平均為: 0.7755246361250296\n",
      "f1平均為: 0.8131371168185584\n",
      "f1平均為: 0.7651115515675441\n",
      "f1平均為: 0.8409529067423804\n",
      "f1平均為: 0.7765663664202478\n",
      "f1平均為: 0.7898849067599066\n",
      "f1平均為: 0.8224869684084666\n",
      "f1平均為: 0.8437044484799603\n",
      "f1平均為: 0.7606595863065313\n",
      "f1平均為: 0.8228311688311688\n",
      "k== 8\n",
      "f1平均為: 0.7921426202321724\n",
      "f1平均為: 0.8176092801894655\n",
      "f1平均為: 0.8139114899517718\n",
      "f1平均為: 0.7652329200989587\n",
      "f1平均為: 0.8363796843122516\n",
      "f1平均為: 0.787252780150742\n",
      "f1平均為: 0.8396769390693927\n",
      "f1平均為: 0.8370686712826022\n",
      "f1平均為: 0.8241710800681864\n",
      "f1平均為: 0.8028339695265064\n",
      "k== 9\n",
      "f1平均為: 0.8276027282430553\n",
      "f1平均為: 0.828175733867016\n",
      "f1平均為: 0.7836732275607445\n",
      "f1平均為: 0.770235411119614\n",
      "f1平均為: 0.7834105440767273\n",
      "f1平均為: 0.8067632850241546\n",
      "f1平均為: 0.7676482223054287\n",
      "f1平均為: 0.8105985287841129\n",
      "f1平均為: 0.764205901387372\n",
      "f1平均為: 0.7896726537080837\n",
      "k== 10\n",
      "f1平均為: 0.7788316196079965\n",
      "f1平均為: 0.7981069815356787\n",
      "f1平均為: 0.848438219362169\n",
      "f1平均為: 0.8093210538332489\n",
      "f1平均為: 0.7964379248094056\n",
      "f1平均為: 0.7642337123292993\n",
      "f1平均為: 0.7794042825025502\n",
      "f1平均為: 0.8089340783313514\n",
      "f1平均為: 0.7986482600676508\n",
      "f1平均為: 0.8129705473081563\n",
      "k== 11\n",
      "f1平均為: 0.7718382086603368\n",
      "f1平均為: 0.8132017276573007\n",
      "f1平均為: 0.789011847915465\n",
      "f1平均為: 0.8090778575565372\n",
      "f1平均為: 0.7870996103272707\n",
      "f1平均為: 0.7797627315059125\n",
      "f1平均為: 0.7827325248220938\n",
      "f1平均為: 0.7982351081705169\n",
      "f1平均為: 0.7345216389642696\n",
      "f1平均為: 0.759065878505267\n",
      "k== 12\n",
      "f1平均為: 0.7610917079421017\n",
      "f1平均為: 0.8086000145687645\n",
      "f1平均為: 0.7838515863301665\n",
      "f1平均為: 0.8105786934611456\n",
      "f1平均為: 0.7370844452294265\n",
      "f1平均為: 0.7787616044992258\n",
      "f1平均為: 0.7882252381099142\n",
      "f1平均為: 0.7887735724177256\n",
      "f1平均為: 0.7908353733712585\n",
      "f1平均為: 0.779489663505706\n",
      "k== 13\n",
      "f1平均為: 0.784586878409883\n",
      "f1平均為: 0.771399373003439\n",
      "f1平均為: 0.8709066793101043\n",
      "f1平均為: 0.8152751340865\n",
      "f1平均為: 0.8097629408222417\n",
      "f1平均為: 0.7945776284894669\n",
      "f1平均為: 0.7848319995123665\n",
      "f1平均為: 0.7860709315397427\n",
      "f1平均為: 0.8283998751786328\n",
      "f1平均為: 0.8334504212468041\n",
      "k== 14\n",
      "f1平均為: 0.7621660916223931\n",
      "f1平均為: 0.7953446336856833\n",
      "f1平均為: 0.7631870889800393\n",
      "f1平均為: 0.7901220211545814\n",
      "f1平均為: 0.7826900675605097\n",
      "f1平均為: 0.7069201023186734\n",
      "f1平均為: 0.7672265715827519\n",
      "f1平均為: 0.7676274038461539\n",
      "f1平均為: 0.7820716930192856\n",
      "f1平均為: 0.77424036065418\n",
      "k== 15\n",
      "f1平均為: 0.7454492019893642\n",
      "f1平均為: 0.8364724840205152\n",
      "f1平均為: 0.7512316426857562\n",
      "f1平均為: 0.7734897587671641\n",
      "f1平均為: 0.749608168518663\n",
      "f1平均為: 0.7729342796506975\n",
      "f1平均為: 0.7658739008538296\n",
      "f1平均為: 0.7755912933744173\n",
      "f1平均為: 0.7769259468021371\n",
      "f1平均為: 0.7954567225214964\n",
      "k== 16\n",
      "f1平均為: 0.8104315982428907\n",
      "f1平均為: 0.7636898700671244\n",
      "f1平均為: 0.802379133088108\n",
      "f1平均為: 0.7335631181228569\n",
      "f1平均為: 0.7935655639128883\n",
      "f1平均為: 0.6898664873640394\n",
      "f1平均為: 0.8024124540491019\n",
      "f1平均為: 0.8102164602583433\n",
      "f1平均為: 0.7796059725496647\n",
      "f1平均為: 0.7669324183597155\n",
      "k== 17\n",
      "f1平均為: 0.7883233167740009\n",
      "f1平均為: 0.7668555300908242\n",
      "f1平均為: 0.8263802950843508\n",
      "f1平均為: 0.7798872704495423\n",
      "f1平均為: 0.780292379004857\n",
      "f1平均為: 0.7973298655789253\n",
      "f1平均為: 0.7476342915274213\n",
      "f1平均為: 0.8025198985869424\n",
      "f1平均為: 0.7643393134379852\n",
      "f1平均為: 0.8104548963809912\n",
      "k== 18\n",
      "f1平均為: 0.7632839956745067\n",
      "f1平均為: 0.782298245614035\n",
      "f1平均為: 0.7724774223890907\n",
      "f1平均為: 0.7683628856126307\n",
      "f1平均為: 0.8044863910846353\n",
      "f1平均為: 0.7757135394724461\n",
      "f1平均為: 0.8030748663101606\n",
      "f1平均為: 0.7566552524550793\n",
      "f1平均為: 0.8122897891918714\n",
      "f1平均為: 0.7640781384109303\n",
      "k== 19\n",
      "f1平均為: 0.7705882143912158\n",
      "f1平均為: 0.7308584928973761\n",
      "f1平均為: 0.7328659206547243\n",
      "f1平均為: 0.8371924209625019\n",
      "f1平均為: 0.7791583006560631\n",
      "f1平均為: 0.7904354117965109\n",
      "f1平均為: 0.7725603027741063\n",
      "f1平均為: 0.7949150534314677\n",
      "f1平均為: 0.779151675408557\n",
      "f1平均為: 0.8138368983957218\n"
     ]
    },
    {
     "data": {
      "image/png": "[encoded data removed]",
      "text/plain": [
       "<Figure size 432x288 with 1 Axes>"
      ]
     },
     "metadata": {},
     "output_type": "display_data"
    }
   ],
   "source": [
    "#在不同K值\n",
    "x=[]\n",
    "y=[]\n",
    "for knn in range(1,20):\n",
    "    x+=[knn]\n",
    "    print(\"k==\",knn)\n",
    "    ans=0\n",
    "    for i in range(10):\n",
    "        adata=randdata(adata)\n",
    "        bdata,cdata=cutdata(adata)\n",
    "        MyKNN=KNN(bdata)\n",
    "        res=MyKNN.bigtest(cdata,knn)\n",
    "        ans+=printres(res,0,0,0,0)[\"f1THPJ\"]\n",
    "    y+=[ans/10]\n",
    "plt.plot(x,y)\n",
    "plt.show()"
   ]
  },
  {
   "cell_type": "code",
   "execution_count": 81,
   "metadata": {},
   "outputs": [],
   "source": [
    "MyKNN=KNN(bdata)"
   ]
  },
  {
   "cell_type": "code",
   "execution_count": 82,
   "metadata": {},
   "outputs": [
    {
     "name": "stdout",
     "output_type": "stream",
     "text": [
      "2\n"
     ]
    }
   ],
   "source": [
    "print(MyKNN.test(adata[2][400]))"
   ]
  },
  {
   "cell_type": "code",
   "execution_count": 83,
   "metadata": {
    "slideshow": {
     "slide_type": "-"
    }
   },
   "outputs": [],
   "source": [
    "#for i in range(400,466):\n",
    "#    print(MyKNN.test(adata[0][i],2))"
   ]
  },
  {
   "cell_type": "code",
   "execution_count": 85,
   "metadata": {},
   "outputs": [
    {
     "data": {
      "text/plain": [
       "[[52, 2, 4, 8], [3, 57, 5, 1], [2, 7, 54, 3], [7, 7, 5, 47]]"
      ]
     },
     "execution_count": 85,
     "metadata": {},
     "output_type": "execute_result"
    }
   ],
   "source": [
    "#MyKNN.bigtest(cdata,1)"
   ]
  },
  {
   "cell_type": "code",
   "execution_count": 107,
   "metadata": {},
   "outputs": [],
   "source": [
    "res=MyKNN.bigtest(cdata,1)"
   ]
  },
  {
   "cell_type": "code",
   "execution_count": 1,
   "metadata": {},
   "outputs": [
    {
     "ename": "NameError",
     "evalue": "name 'printres' is not defined",
     "output_type": "error",
     "traceback": [
      "\u001b[1;31m---------------------------------------------------------------------------\u001b[0m",
      "\u001b[1;31mNameError\u001b[0m                                 Traceback (most recent call last)",
      "\u001b[1;32m<ipython-input-1-2ec0e212b74c>\u001b[0m in \u001b[0;36m<module>\u001b[1;34m()\u001b[0m\n\u001b[1;32m----> 1\u001b[1;33m \u001b[0mprintres\u001b[0m\u001b[1;33m(\u001b[0m\u001b[0mres\u001b[0m\u001b[1;33m)\u001b[0m\u001b[1;33m\u001b[0m\u001b[0m\n\u001b[0m",
      "\u001b[1;31mNameError\u001b[0m: name 'printres' is not defined"
     ]
    }
   ],
   "source": [
    "printres(res)"
   ]
  },
  {
   "cell_type": "code",
   "execution_count": 2,
   "metadata": {},
   "outputs": [
    {
     "name": "stdout",
     "output_type": "stream",
     "text": [
      "1\n"
     ]
    }
   ],
   "source": []
  },
  {
   "cell_type": "code",
   "execution_count": null,
   "metadata": {},
   "outputs": [],
   "source": []
  }
 ],
 "metadata": {
  "kernelspec": {
   "display_name": "Python 3",
   "language": "python",
   "name": "python3"
  },
  "language_info": {
   "codemirror_mode": {
    "name": "ipython",
    "version": 3
   },
   "file_extension": ".py",
   "mimetype": "text/x-python",
   "name": "python",
   "nbconvert_exporter": "python",
   "pygments_lexer": "ipython3",
   "version": "3.6.5"
  }
 },
 "nbformat": 4,
 "nbformat_minor": 2
}
