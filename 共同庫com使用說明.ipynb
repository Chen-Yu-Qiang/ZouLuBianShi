{
 "cells": [
  {
   "cell_type": "markdown",
   "metadata": {},
   "source": [
    "共同庫com使用說明"
   ]
  },
  {
   "cell_type": "markdown",
   "metadata": {},
   "source": [
    "# 如何引入\n",
    "```python\n",
    "import sys \n",
    "sys.path.append(\".\\\\\")\n",
    "import com\n",
    "com.function() #調用函數\n",
    "```\n"
   ]
  },
  {
   "cell_type": "code",
   "execution_count": 1,
   "metadata": {
    "ExecuteTime": {
     "end_time": "2018-07-31T13:53:39.040187Z",
     "start_time": "2018-07-31T13:53:38.718165Z"
    }
   },
   "outputs": [],
   "source": [
    "import sys \n",
    "sys.path.append(\".\\\\\")\n",
    "import com"
   ]
  },
  {
   "cell_type": "markdown",
   "metadata": {},
   "source": [
    "# 定義型態\n",
    "## {az}data 全筆資料\n",
    "adata[i][j][k]\n",
    "* i:第幾個人\n",
    "* j:第幾筆資料\n",
    "* k:第幾個關節(維度)\n"
   ]
  },
  {
   "cell_type": "markdown",
   "metadata": {},
   "source": [
    "## res 結果資料\n",
    "```python\n",
    "[ [第一人被分為第一類,第一人被分為第二類,第一人被分為第三類,...],\n",
    "  [第二人被分為第一類,第二人被分為第二類,第二人被分為第三類,...],\n",
    "  [第三人被分為第一類,第三人被分為第二類,第三人被分為第三類,...],\n",
    "    ...\n",
    "]\n",
    "```"
   ]
  },
  {
   "cell_type": "markdown",
   "metadata": {},
   "source": [
    "# 函數說明\n",
    "\n",
    "## dis(a,b)\n",
    "計算2點在多維空間中之距離\n",
    "* 傳入值\n",
    "    * a=[a1,a2,a3,...,an]，第一點\n",
    "    * b=[b1,b2,b3,...,bn]，第二點\n",
    "* 傳回值\n",
    "    * 浮點數，兩點在多維空間中之距離\n",
    "\n"
   ]
  },
  {
   "cell_type": "code",
   "execution_count": 8,
   "metadata": {
    "ExecuteTime": {
     "end_time": "2018-07-30T17:51:03.696597Z",
     "start_time": "2018-07-30T17:51:03.689597Z"
    }
   },
   "outputs": [
    {
     "data": {
      "text/plain": [
       "5.0"
      ]
     },
     "execution_count": 8,
     "metadata": {},
     "output_type": "execute_result"
    }
   ],
   "source": [
    "a=[0,0]\n",
    "b=[3,4]\n",
    "com.dis(a,b)"
   ]
  },
  {
   "cell_type": "markdown",
   "metadata": {},
   "source": [
    "## ang(j1,j2,j3)\n",
    "計算角∠j1-j2-j3，單位為度度量\n",
    "* 傳入值\n",
    "    * j1=[x1,y1,z1]，起點\n",
    "    * j2=[x2,y2,z2]，轉折點\n",
    "    * j3=[x3,y3,z3]，終點\n",
    "* 傳回值\n",
    "    * 浮點數，角度值，度度量\n",
    "\n"
   ]
  },
  {
   "cell_type": "code",
   "execution_count": 9,
   "metadata": {
    "ExecuteTime": {
     "end_time": "2018-07-30T17:52:56.327446Z",
     "start_time": "2018-07-30T17:52:56.321445Z"
    }
   },
   "outputs": [
    {
     "data": {
      "text/plain": [
       "180.0"
      ]
     },
     "execution_count": 9,
     "metadata": {},
     "output_type": "execute_result"
    }
   ],
   "source": [
    "j1=[0,0,0]\n",
    "j2=[10,10,10]\n",
    "j3=[15,15,15]\n",
    "com.ang(j1,j2,j3)"
   ]
  },
  {
   "cell_type": "markdown",
   "metadata": {},
   "source": [
    "## tansdata(who,expnum,nowmax,where)\n",
    "批次將一回實驗之數據(座標)轉成38個關節角度資料，並輸出存檔\n",
    "* 傳入值\n",
    "    * who=\"字串\"，實驗者代號(WCZAX)\n",
    "    * expnum=整數，第幾回實驗\n",
    "    * nowmax=整數，現在最大輸出編號，用於壘加數值\n",
    "    * where=\"字串\"，輸出目錄\n",
    "* 傳回值\n",
    "    * 整數，這回實驗增加了幾筆角度資料\n",
    "* 使用範例\n",
    "\n",
    "```python\n",
    "dd=1\n",
    "for i in range(1,105+1):\n",
    "    dd=dd+tansdata(\"W\",i,dd,\"角度資料\\\\0730(0.25)(1+1點)(38點)\\\\\")\n",
    "```"
   ]
  },
  {
   "cell_type": "markdown",
   "metadata": {},
   "source": [
    "## datatoang(data)\n",
    "將一筆座標資料轉為角度資料\n",
    "* 傳入值\n",
    "    * data={\"關節名\":[x,y,z],...,\"time\":123}，一筆座標資料\n",
    "* 傳回值\n",
    "    * 浮點數之陣列，依序之19個角度值\n",
    "\n"
   ]
  },
  {
   "cell_type": "markdown",
   "metadata": {},
   "source": [
    "## readdata(datanum,people,where)\n",
    "將角度資料檔讀入程式\n",
    "* 傳入值\n",
    "    * datanum=[n0,n1,n2,...]，每個人要讀入幾筆資料\n",
    "    * people=整數，要讀入幾個人的資料\n",
    "    * where=\"字串\"，角度資料目錄\n",
    "* 傳回值\n",
    "    * adata[i][j][k]，全筆資料，`i`某個人，`j`某筆角度資料，`k`某個角度值"
   ]
  },
  {
   "cell_type": "code",
   "execution_count": 12,
   "metadata": {
    "ExecuteTime": {
     "end_time": "2018-07-30T17:55:48.793567Z",
     "start_time": "2018-07-30T17:55:48.258557Z"
    }
   },
   "outputs": [],
   "source": [
    "adata=com.readdata([495,467,482,512],4,\"角度資料\\\\0730(0.25)(1+1點)(38點)\\\\\")"
   ]
  },
  {
   "cell_type": "markdown",
   "metadata": {},
   "source": [
    "## GLdata(adata)\n",
    "過濾資料，當某個關節的角度值與其自己的該關節的平均值誤差超過一個角度值時，該筆資料不計\n",
    "* 傳入值\n",
    "    * adata=全筆資料\n",
    "* 傳回值\n",
    "    * bdata=過濾後之全筆資料"
   ]
  },
  {
   "cell_type": "code",
   "execution_count": 11,
   "metadata": {
    "ExecuteTime": {
     "end_time": "2018-07-30T17:55:44.962493Z",
     "start_time": "2018-07-30T17:55:44.900495Z"
    }
   },
   "outputs": [],
   "source": [
    "adata=com.GLdata(adata,40)"
   ]
  },
  {
   "cell_type": "markdown",
   "metadata": {},
   "source": [
    "## randdata(adata)\n",
    "打亂資料，以利後續切割資料\n",
    "* 傳入值\n",
    "    * adata=全筆資料\n",
    "* 傳回值\n",
    "    * bdata=打亂後之全筆資料\n"
   ]
  },
  {
   "cell_type": "code",
   "execution_count": 13,
   "metadata": {
    "ExecuteTime": {
     "end_time": "2018-07-30T17:56:13.872894Z",
     "start_time": "2018-07-30T17:56:13.842887Z"
    }
   },
   "outputs": [],
   "source": [
    "adata=com.randdata(adata)"
   ]
  },
  {
   "cell_type": "markdown",
   "metadata": {},
   "source": [
    "## cutdata(adata,TrainDataFrom,TrainDataEnd,TestDataFrom,TestDataEnd)\n",
    "切割資料，做為訓練資料與測試資料\n",
    "* 傳入值\n",
    "    * adata=全筆資料\n",
    "    * TrainDataFrom=整數，從第幾筆資料開始做為訓練資料\n",
    "    * TrainDataEnd=整數，到第幾筆資料結束做為訓練資料\n",
    "    * TestDataFrom=整數，從第幾筆資料開始做為測試資料\n",
    "    * TestDataEnd=整數，到第幾筆資料結束做為測試資料\n",
    "* 傳回值\n",
    "    * bdata=切割後之全筆訓練資料\n",
    "    * cdata=切割後之全筆測試資料\n"
   ]
  },
  {
   "cell_type": "code",
   "execution_count": 14,
   "metadata": {
    "ExecuteTime": {
     "end_time": "2018-07-30T17:56:30.813767Z",
     "start_time": "2018-07-30T17:56:30.810763Z"
    }
   },
   "outputs": [],
   "source": [
    "bdata,cdata=com.cutdata(adata,0,350,350,377)"
   ]
  },
  {
   "cell_type": "markdown",
   "metadata": {},
   "source": [
    "## printres(res,table,rec,pre,acc)\n",
    "顯示及計算結果資料之召回率、精確度、準確度、f1調和平均數\n",
    "* 傳入值\n",
    "    * res=結果格式\n",
    "    ```python\n",
    "    [[第一人被分為第一類,第一人被分為第二類,第一人被分為第三類,...],\n",
    "     [第二人被分為第一類,第二人被分為第二類,第二人被分為第三類,...],\n",
    "     [第三人被分為第一類,第三人被分為第二類,第三人被分為第三類,...],\n",
    "     ...\n",
    "    ]\n",
    "    ```\n",
    "    * table，為1時顯示表格\n",
    "    * rec，為1時顯示召回率，P(分為某|是某)\n",
    "    * pre，為1時顯示精確度，P(是某|分為某)\n",
    "    * acc，為1時顯示準確度，P(判斷為正確)\n",
    "* 傳回值\n",
    "    * 字典\n",
    "    ```python\n",
    "    {\"ZHL\":浮點數之陣列，各位的召回率,\n",
    "     \"JQL\":浮點數之陣列，各位的精確度,\n",
    "     \"ZQL\":浮點數，準確度,\n",
    "     \"f1TH\":浮點數之陣列，各位的f1值,\n",
    "     \"f1THPJ\":浮點數，f1之平均}\n",
    "    ```"
   ]
  },
  {
   "cell_type": "code",
   "execution_count": 17,
   "metadata": {
    "ExecuteTime": {
     "end_time": "2018-07-30T17:58:49.082726Z",
     "start_time": "2018-07-30T17:58:46.104796Z"
    }
   },
   "outputs": [
    {
     "data": {
      "text/html": [
       "<div>\n",
       "<style scoped>\n",
       "    .dataframe tbody tr th:only-of-type {\n",
       "        vertical-align: middle;\n",
       "    }\n",
       "\n",
       "    .dataframe tbody tr th {\n",
       "        vertical-align: top;\n",
       "    }\n",
       "\n",
       "    .dataframe thead th {\n",
       "        text-align: right;\n",
       "    }\n",
       "</style>\n",
       "<table border=\"1\" class=\"dataframe\">\n",
       "  <thead>\n",
       "    <tr style=\"text-align: right;\">\n",
       "      <th></th>\n",
       "      <th>0</th>\n",
       "      <th>1</th>\n",
       "      <th>2</th>\n",
       "      <th>3</th>\n",
       "    </tr>\n",
       "  </thead>\n",
       "  <tbody>\n",
       "    <tr>\n",
       "      <th>0</th>\n",
       "      <td>68</td>\n",
       "      <td>8</td>\n",
       "      <td>15</td>\n",
       "      <td>9</td>\n",
       "    </tr>\n",
       "    <tr>\n",
       "      <th>1</th>\n",
       "      <td>6</td>\n",
       "      <td>72</td>\n",
       "      <td>17</td>\n",
       "      <td>5</td>\n",
       "    </tr>\n",
       "    <tr>\n",
       "      <th>2</th>\n",
       "      <td>10</td>\n",
       "      <td>3</td>\n",
       "      <td>80</td>\n",
       "      <td>7</td>\n",
       "    </tr>\n",
       "    <tr>\n",
       "      <th>3</th>\n",
       "      <td>18</td>\n",
       "      <td>12</td>\n",
       "      <td>13</td>\n",
       "      <td>57</td>\n",
       "    </tr>\n",
       "  </tbody>\n",
       "</table>\n",
       "</div>"
      ],
      "text/plain": [
       "    0   1   2   3\n",
       "0  68   8  15   9\n",
       "1   6  72  17   5\n",
       "2  10   3  80   7\n",
       "3  18  12  13  57"
      ]
     },
     "metadata": {},
     "output_type": "display_data"
    },
    {
     "name": "stdout",
     "output_type": "stream",
     "text": [
      "召回率\n",
      "[0.68, 0.72, 0.8, 0.57]\n",
      "精確率\n",
      "[0.6666666666666666, 0.7578947368421053, 0.64, 0.7307692307692307]\n",
      "準確率 0.6925\n",
      "f1平均為: 0.6908223536268925\n"
     ]
    },
    {
     "data": {
      "text/plain": [
       "{'ZHL': [0.68, 0.72, 0.8, 0.57],\n",
       " 'JQL': [0.6666666666666666, 0.7578947368421053, 0.64, 0.7307692307692307],\n",
       " 'f1TH': [0.6732673267326732,\n",
       "  0.7384615384615385,\n",
       "  0.7111111111111111,\n",
       "  0.6404494382022472],\n",
       " 'f1THPJ': 0.6908223536268925}"
      ]
     },
     "execution_count": 17,
     "metadata": {},
     "output_type": "execute_result"
    }
   ],
   "source": [
    "adata=com.randdata(adata)\n",
    "bdata,cdata=com.cutdata(adata,0,100,100,200)\n",
    "MyKNN=com.KNN(bdata)\n",
    "res=MyKNN.bigtest(cdata,4)\n",
    "com.printres(res,1,1,1,1)"
   ]
  },
  {
   "cell_type": "markdown",
   "metadata": {},
   "source": [
    "## HT(x,y,xlabel,ylabel,title)\n",
    "畫折線圖\n",
    "* 傳入值\n",
    "    * x=[x1,x2,x3,...,xn]\n",
    "    * y=[y1,y2,y3,...,yn]\n",
    "    * xlabel，字串，X軸之標籤\n",
    "    * ylabel，字串，Y軸之標籤\n",
    "    * title，字串，可省，預設為X軸對Y軸之影響\n",
    "* 傳回值\n",
    "    * 無"
   ]
  },
  {
   "cell_type": "code",
   "execution_count": 18,
   "metadata": {
    "ExecuteTime": {
     "end_time": "2018-07-30T18:00:27.946797Z",
     "start_time": "2018-07-30T18:00:27.061785Z"
    },
    "scrolled": true
   },
   "outputs": [
    {
     "data": {
      "image/png": "[encoded data removed]",
      "text/plain": [
       "<Figure size 432x288 with 1 Axes>"
      ]
     },
     "metadata": {},
     "output_type": "display_data"
    }
   ],
   "source": [
    "com.HT([1,2,3],[10,100,1000],\"x\",\"y\",\"y=10^x函數\")"
   ]
  },
  {
   "cell_type": "markdown",
   "metadata": {},
   "source": [
    "## divdata(adata)\n",
    "將全筆資料分為資料及標籤\n",
    "* 傳入值\n",
    "    * adata，全筆資料\n",
    "* 傳回值\n",
    "    * data，由每一筆資料(一維陣列)組成之二維陣列\n",
    "    * label，data對應之標籤(一維陣列)\n",
    "* 使用範例\n",
    "```python\n",
    "bdata, blabel = divdata(adata)\n",
    "```"
   ]
  },
  {
   "cell_type": "markdown",
   "metadata": {},
   "source": [
    "# 類別:KNN\n",
    "## KNN:建構子KNN(adata)\n",
    "建立實體\n",
    "* 傳入值\n",
    "    * adata=訓練資料\n",
    "* 傳回值\n",
    "    * 無\n",
    "* 使用範例\n",
    "    * MyKNN為物件實體\n",
    "    * adata為訓練資料\n",
    "    ```python\n",
    "    MyKNN=com.KNN(adata)\n",
    "    ```"
   ]
  },
  {
   "cell_type": "code",
   "execution_count": 20,
   "metadata": {
    "ExecuteTime": {
     "end_time": "2018-07-30T18:02:43.993176Z",
     "start_time": "2018-07-30T18:02:43.989172Z"
    }
   },
   "outputs": [],
   "source": [
    "MyKNN=com.KNN(bdata)"
   ]
  },
  {
   "cell_type": "markdown",
   "metadata": {},
   "source": [
    "## KNN:test(testdata,k)\n",
    "測試一筆資料\n",
    "* 傳入值\n",
    "    * testdata 為一筆測試資料\n",
    "    * k，整數，KNN之K值\n",
    "* 傳回值\n",
    "    * 整數，判斷結果為誰\n"
   ]
  },
  {
   "cell_type": "code",
   "execution_count": 22,
   "metadata": {
    "ExecuteTime": {
     "end_time": "2018-07-30T18:02:58.038855Z",
     "start_time": "2018-07-30T18:02:58.025855Z"
    }
   },
   "outputs": [
    {
     "name": "stdout",
     "output_type": "stream",
     "text": [
      "1\n"
     ]
    }
   ],
   "source": [
    "print(MyKNN.test(cdata[1][0]))"
   ]
  },
  {
   "cell_type": "markdown",
   "metadata": {},
   "source": [
    "## KNN:bigtest(testdata,k)\n",
    "測試多人多筆資料\n",
    "* 傳入值\n",
    "    * testdata 為多人多筆測試資料\n",
    "    * k，整數，KNN之K值\n",
    "* 傳回值\n",
    "    * 結果資料格式\n",
    "* 使用範例\n",
    "    * adata為全筆資料\n",
    "    * bdata為訓練資料\n",
    "    * cdata為測試資料\n",
    "    ```python\n",
    "    adata=randdata(adata)\n",
    "    bdata,cdata=cutdata(adata)\n",
    "    MyKNN=KNN(bdata)\n",
    "    res=MyKNN.bigtest(cdata,4)\n",
    "    com.printres(res)\n",
    "    ```"
   ]
  },
  {
   "cell_type": "code",
   "execution_count": 24,
   "metadata": {
    "ExecuteTime": {
     "end_time": "2018-07-30T18:03:50.465932Z",
     "start_time": "2018-07-30T18:03:47.576983Z"
    }
   },
   "outputs": [
    {
     "data": {
      "text/html": [
       "<div>\n",
       "<style scoped>\n",
       "    .dataframe tbody tr th:only-of-type {\n",
       "        vertical-align: middle;\n",
       "    }\n",
       "\n",
       "    .dataframe tbody tr th {\n",
       "        vertical-align: top;\n",
       "    }\n",
       "\n",
       "    .dataframe thead th {\n",
       "        text-align: right;\n",
       "    }\n",
       "</style>\n",
       "<table border=\"1\" class=\"dataframe\">\n",
       "  <thead>\n",
       "    <tr style=\"text-align: right;\">\n",
       "      <th></th>\n",
       "      <th>0</th>\n",
       "      <th>1</th>\n",
       "      <th>2</th>\n",
       "      <th>3</th>\n",
       "    </tr>\n",
       "  </thead>\n",
       "  <tbody>\n",
       "    <tr>\n",
       "      <th>0</th>\n",
       "      <td>68</td>\n",
       "      <td>8</td>\n",
       "      <td>15</td>\n",
       "      <td>9</td>\n",
       "    </tr>\n",
       "    <tr>\n",
       "      <th>1</th>\n",
       "      <td>6</td>\n",
       "      <td>72</td>\n",
       "      <td>17</td>\n",
       "      <td>5</td>\n",
       "    </tr>\n",
       "    <tr>\n",
       "      <th>2</th>\n",
       "      <td>10</td>\n",
       "      <td>3</td>\n",
       "      <td>80</td>\n",
       "      <td>7</td>\n",
       "    </tr>\n",
       "    <tr>\n",
       "      <th>3</th>\n",
       "      <td>18</td>\n",
       "      <td>12</td>\n",
       "      <td>13</td>\n",
       "      <td>57</td>\n",
       "    </tr>\n",
       "  </tbody>\n",
       "</table>\n",
       "</div>"
      ],
      "text/plain": [
       "    0   1   2   3\n",
       "0  68   8  15   9\n",
       "1   6  72  17   5\n",
       "2  10   3  80   7\n",
       "3  18  12  13  57"
      ]
     },
     "metadata": {},
     "output_type": "display_data"
    },
    {
     "name": "stdout",
     "output_type": "stream",
     "text": [
      "召回率\n",
      "[0.68, 0.72, 0.8, 0.57]\n",
      "精確率\n",
      "[0.6666666666666666, 0.7578947368421053, 0.64, 0.7307692307692307]\n",
      "準確率 0.6925\n",
      "f1平均為: 0.6908223536268925\n"
     ]
    },
    {
     "data": {
      "text/plain": [
       "{'ZHL': [0.68, 0.72, 0.8, 0.57],\n",
       " 'JQL': [0.6666666666666666, 0.7578947368421053, 0.64, 0.7307692307692307],\n",
       " 'f1TH': [0.6732673267326732,\n",
       "  0.7384615384615385,\n",
       "  0.7111111111111111,\n",
       "  0.6404494382022472],\n",
       " 'f1THPJ': 0.6908223536268925}"
      ]
     },
     "execution_count": 24,
     "metadata": {},
     "output_type": "execute_result"
    }
   ],
   "source": [
    "res=MyKNN.bigtest(cdata,4)\n",
    "com.printres(res)"
   ]
  },
  {
   "cell_type": "markdown",
   "metadata": {},
   "source": [
    "# 3Q"
   ]
  },
  {
   "cell_type": "code",
   "execution_count": null,
   "metadata": {},
   "outputs": [],
   "source": []
  }
 ],
 "metadata": {
  "kernelspec": {
   "display_name": "Python 3",
   "language": "python",
   "name": "python3"
  },
  "language_info": {
   "codemirror_mode": {
    "name": "ipython",
    "version": 3
   },
   "file_extension": ".py",
   "mimetype": "text/x-python",
   "name": "python",
   "nbconvert_exporter": "python",
   "pygments_lexer": "ipython3",
   "version": "3.6.5"
  },
  "toc": {
   "base_numbering": 1,
   "nav_menu": {},
   "number_sections": true,
   "sideBar": true,
   "skip_h1_title": false,
   "title_cell": "Table of Contents",
   "title_sidebar": "Contents",
   "toc_cell": false,
   "toc_position": {
    "height": "calc(100% - 180px)",
    "left": "10px",
    "top": "150px",
    "width": "384px"
   },
   "toc_section_display": true,
   "toc_window_display": true
  },
  "varInspector": {
   "cols": {
    "lenName": 16,
    "lenType": 16,
    "lenVar": 40
   },
   "kernels_config": {
    "python": {
     "delete_cmd_postfix": "",
     "delete_cmd_prefix": "del ",
     "library": "var_list.py",
     "varRefreshCmd": "print(var_dic_list())"
    },
    "r": {
     "delete_cmd_postfix": ") ",
     "delete_cmd_prefix": "rm(",
     "library": "var_list.r",
     "varRefreshCmd": "cat(var_dic_list()) "
    }
   },
   "types_to_exclude": [
    "module",
    "function",
    "builtin_function_or_method",
    "instance",
    "_Feature"
   ],
   "window_display": false
  }
 },
 "nbformat": 4,
 "nbformat_minor": 2
}
